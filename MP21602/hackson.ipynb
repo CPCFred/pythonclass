{
 "cells": [
  {
   "cell_type": "code",
   "execution_count": 93,
   "metadata": {
    "collapsed": false
   },
   "outputs": [
    {
     "name": "stdout",
     "output_type": "stream",
     "text": [
      "[26.8, 26.6, 26.4, 26.7, 26.3, 26.0, 25.8, 25.4, 25.3, 25.1, 25.4, 24.9, 24.7, 24.4, 24.7, 24.3, 24.0, 24.3, 24.5, 25.0, 25.6, 25.4, 24.9, 25.2, 25.7, 26.2, 25.8, 25.2, 25.1, 25.3, 26.1, 26.4, 26.3, 26.4, 26.5, 26.4, 26.5, 26.8]\n"
     ]
    }
   ],
   "source": [
    "# _*_ coding: utf-8 _*_\n",
    "# 程式 10-1.py (Python 3 version)\n",
    "\n",
    "import sqlite3\n",
    "from bs4 import BeautifulSoup\n",
    "import requests\n",
    "import numpy as np\n",
    "import matplotlib.pyplot as pt\n",
    "\n",
    "def fetch_data():\n",
    "    url = 'http://new.cpc.com.tw/division/mb/oil-more4.aspx'\n",
    "\n",
    "    html = requests.get(url).text\n",
    "    sp = BeautifulSoup(html, 'html.parser')\n",
    "    data = sp.find_all('span', {'id':'Showtd'})\n",
    "    rows = data[0].find_all('tr')\n",
    "\n",
    "    global prices,oildate\n",
    "    prices = list()\n",
    "    oildate=list()\n",
    "    for row in rows:\n",
    "        cols = row.find_all('td')\n",
    "        if len(cols[1].text) > 0 and cols[0].text>'2017/01/01':\n",
    "            item =  float(cols[2].text)\n",
    "            prices.append(item)\n",
    "            item = [cols[0].text]\n",
    "            oildate.append(item)\n",
    "            item = [cols[0].text, float(cols[2].text)]\n",
    "    \n",
    "    print(prices)\n",
    "    return        \n",
    "    for p in prices:\n",
    "        sqlstr = \"select * from prices where gdate='{}';\".format(p[0])\n",
    "        cursor = conn.execute(sqlstr)\n",
    "        if len(cursor.fetchall()) == 0:\n",
    "            g92 = 0 if p[1]=='' else float(p[1])\n",
    "            g95 = 0 if p[2]=='' else float(p[2])\n",
    "            g98 = 0 if p[3]=='' else float(p[3])\n",
    "            sqlstr = \"insert into prices values('{}', {}, {}, {});\". \\\n",
    "                format(p[0], g92, g95, g98)\n",
    "            print(sqlstr)\n",
    "            conn.execute(sqlstr)\n",
    "            conn.commit()\n",
    "\n",
    "\n",
    "def disp_10data():\n",
    "    cursor = conn.execute('select * from prices order by gdate desc;')\n",
    "    n = 0\n",
    "    for row in cursor:\n",
    "        print(\"日期：{}，92無鉛：{}，95無鉛：{}，98無鉛：{}\". \\\n",
    "            format(row[0],row[1],row[2],row[3]))\n",
    "        n = n + 1\n",
    "        if n == 10:\n",
    "            break\n",
    "\n",
    "\n",
    "def disp_alldata():\n",
    "    cursor = conn.execute('select * from prices order by gdate desc;')\n",
    "    n = 0\n",
    "    for row in cursor:\n",
    "        print(\"日期：{}，92無鉛：{}，95無鉛：{}，98無鉛：{}\". \\\n",
    "            format(row[0],row[1],row[2],row[3]))\n",
    "        n = n + 1\n",
    "        if n == 20:\n",
    "            x = input(\"請按Enter鍵繼續...(Q:回主選單)\")\n",
    "            if x == 'Q' or x == 'q': break\n",
    "            n = 0\n",
    "\n",
    "\n",
    "\n",
    "fetch_data()\n",
    " \n"
   ]
  },
  {
   "cell_type": "code",
   "execution_count": 118,
   "metadata": {
    "collapsed": false
   },
   "outputs": [
    {
     "data": {
      "image/png": "[encoded data removed]",
      "text/plain": [
       "<matplotlib.figure.Figure at 0xa0f83c8>"
      ]
     },
     "metadata": {},
     "output_type": "display_data"
    },
    {
     "name": "stdout",
     "output_type": "stream",
     "text": [
      "-0.3 -0.1\n"
     ]
    }
   ],
   "source": [
    "from bs4 import BeautifulSoup\n",
    "import requests\n",
    "import numpy as np\n",
    "import matplotlib.pyplot as pt\n",
    "\n",
    "def fetch_data():\n",
    "    url = 'http://new.cpc.com.tw/division/mb/oil-more4.aspx'\n",
    "\n",
    "    html = requests.get(url).text\n",
    "    sp = BeautifulSoup(html, 'html.parser')\n",
    "    data = sp.find_all('span', {'id':'Showtd'})\n",
    "    rows = data[0].find_all('tr')\n",
    "\n",
    "    global prices,oildate\n",
    "    prices = list()\n",
    "    oildate=list()\n",
    "    for row in rows:\n",
    "        cols = row.find_all('td')\n",
    "        if len(cols[1].text) > 0 and cols[0].text>'2017/01/01':\n",
    "            item =  float(cols[2].text)\n",
    "            prices.append(item)\n",
    "            item = [cols[0].text]\n",
    "            oildate.append(item)\n",
    "            item = [cols[0].text, float(cols[2].text)]\n",
    "def chart():\n",
    "    \n",
    "    w = oildate[::-1]\n",
    "    \n",
    "    y = prices[::-1]\n",
    "    \n",
    "    x = np.arange(0,len(w))\n",
    "    global c\n",
    "    c=np.diff(y)\n",
    "    x2=np.arange(0,len(c))\n",
    "    pt.ylabel(\"NTD$\")\n",
    "    pt.xlabel(\"Weeks ( {} --- {} )\".format(w[0], w[-1]))\n",
    "    pt.plot(x, y, color=\"green\", label=\"95\")\n",
    "    pt.plot(x2, c, color=\"red\", label=\"difference\")\n",
    "    pt.xlim(0,len(w))\n",
    "    pt.ylim(-10,40)\n",
    "    pt.title(\" Gasoline Prices AND  (Taiwan)\")\n",
    "    pt.legend()\n",
    "    pt.show()\n",
    "#for i in range(10):\n",
    "#  print(prices[i])\n",
    "import numpy as np\n",
    "a=np.random.rand(10)\n",
    "chart()\n",
    "print(c[0],c[1])\n"
   ]
  },
  {
   "cell_type": "code",
   "execution_count": 110,
   "metadata": {
    "collapsed": false
   },
   "outputs": [
    {
     "name": "stdout",
     "output_type": "stream",
     "text": [
      "0= 26.8\n",
      "1= 26.6\n",
      "-1= 26.8\n"
     ]
    }
   ],
   "source": [
    "print(\"0=\",prices[0])\n",
    "print(\"1=\",prices[1])\n",
    "print(\"-1=\",prices[-1])\n",
    "\n"
   ]
  },
  {
   "cell_type": "code",
   "execution_count": null,
   "metadata": {
    "collapsed": true
   },
   "outputs": [],
   "source": []
  }
 ],
 "metadata": {
  "anaconda-cloud": {},
  "kernelspec": {
   "display_name": "Python [conda root]",
   "language": "python",
   "name": "conda-root-py"
  },
  "language_info": {
   "codemirror_mode": {
    "name": "ipython",
    "version": 3
   },
   "file_extension": ".py",
   "mimetype": "text/x-python",
   "name": "python",
   "nbconvert_exporter": "python",
   "pygments_lexer": "ipython3",
   "version": "3.5.2"
  }
 },
 "nbformat": 4,
 "nbformat_minor": 1
}
