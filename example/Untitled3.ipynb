{
 "cells": [
  {
   "cell_type": "code",
   "execution_count": 1,
   "metadata": {
    "collapsed": true
   },
   "outputs": [],
   "source": [
    "import ibm_db\n",
    "conn=ibm_db.connect(\"DATABASE=CPCDB;HOSTNAME=db2cs.cpc.com.tw;PORT=50000;PROTOCOL=TCPIP;UID=aa206;PWD=xxx;\", \"\", \"\")\n",
    "import pandas\n",
    "import ibm_db_dbi\n",
    "pconn = ibm_db_dbi.Connection(conn)\n",
    "df = pandas.read_sql('SELECT CUST_NO,busNO, CUST_NAME,  ADDR FROM SDRDASA.SDA_TBCUSTOMER;', pconn)\n",
    "df.to_excel('OUTEXCEL0914.xlsx', sheet_name='Sheet1')"
   ]
  },
  {
   "cell_type": "code",
   "execution_count": 2,
   "metadata": {
    "collapsed": false
   },
   "outputs": [
    {
     "data": {
      "text/html": [
       "<div>\n",
       "<table border=\"1\" class=\"dataframe\">\n",
       "  <thead>\n",
       "    <tr style=\"text-align: right;\">\n",
       "      <th></th>\n",
       "      <th>CUST_NO</th>\n",
       "      <th>BUSNO</th>\n",
       "      <th>CUST_NAME</th>\n",
       "      <th>ADDR</th>\n",
       "    </tr>\n",
       "  </thead>\n",
       "  <tbody>\n",
       "    <tr>\n",
       "      <th>0</th>\n",
       "      <td>AA0111001</td>\n",
       "      <td>A0111001</td>\n",
       "      <td>李彩霞                                           ...</td>\n",
       "      <td>950台東縣台東市台東市中興路３段２６４號                         ...</td>\n",
       "    </tr>\n",
       "    <tr>\n",
       "      <th>1</th>\n",
       "      <td>AA0111002</td>\n",
       "      <td>A0111002</td>\n",
       "      <td>張順安                                           ...</td>\n",
       "      <td>955台東縣鹿野鄉瑞隆村２號                                ...</td>\n",
       "    </tr>\n",
       "    <tr>\n",
       "      <th>2</th>\n",
       "      <td>AA0111003</td>\n",
       "      <td>A0111003</td>\n",
       "      <td>鐘勇耀                                           ...</td>\n",
       "      <td>955台東縣鹿野鄉瑞隆村７號                                ...</td>\n",
       "    </tr>\n",
       "    <tr>\n",
       "      <th>3</th>\n",
       "      <td>AA0111004</td>\n",
       "      <td>A0111004</td>\n",
       "      <td>張樹霖                                           ...</td>\n",
       "      <td>950台東縣台東市豐年路１段７９０號                            ...</td>\n",
       "    </tr>\n",
       "    <tr>\n",
       "      <th>4</th>\n",
       "      <td>AA0111005</td>\n",
       "      <td>A0111005</td>\n",
       "      <td>楊景昌                                           ...</td>\n",
       "      <td>956台東縣關山鎮德高里２８號                               ...</td>\n",
       "    </tr>\n",
       "  </tbody>\n",
       "</table>\n",
       "</div>"
      ],
      "text/plain": [
       "     CUST_NO     BUSNO                                          CUST_NAME  \\\n",
       "0  AA0111001  A0111001  李彩霞                                           ...   \n",
       "1  AA0111002  A0111002  張順安                                           ...   \n",
       "2  AA0111003  A0111003  鐘勇耀                                           ...   \n",
       "3  AA0111004  A0111004  張樹霖                                           ...   \n",
       "4  AA0111005  A0111005  楊景昌                                           ...   \n",
       "\n",
       "                                                ADDR  \n",
       "0  950台東縣台東市台東市中興路３段２６４號                         ...  \n",
       "1  955台東縣鹿野鄉瑞隆村２號                                ...  \n",
       "2  955台東縣鹿野鄉瑞隆村７號                                ...  \n",
       "3  950台東縣台東市豐年路１段７９０號                            ...  \n",
       "4  956台東縣關山鎮德高里２８號                               ...  "
      ]
     },
     "execution_count": 2,
     "metadata": {},
     "output_type": "execute_result"
    }
   ],
   "source": [
    "df.head()"
   ]
  },
  {
   "cell_type": "code",
   "execution_count": null,
   "metadata": {
    "collapsed": true
   },
   "outputs": [],
   "source": []
  }
 ],
 "metadata": {
  "kernelspec": {
   "display_name": "Python [default]",
   "language": "python",
   "name": "python3"
  },
  "language_info": {
   "codemirror_mode": {
    "name": "ipython",
    "version": 3
   },
   "file_extension": ".py",
   "mimetype": "text/x-python",
   "name": "python",
   "nbconvert_exporter": "python",
   "pygments_lexer": "ipython3",
   "version": "3.5.2"
  }
 },
 "nbformat": 4,
 "nbformat_minor": 1
}
