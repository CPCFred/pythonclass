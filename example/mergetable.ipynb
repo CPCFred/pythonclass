{
 "cells": [
  {
   "cell_type": "code",
   "execution_count": 2,
   "metadata": {
    "collapsed": false
   },
   "outputs": [],
   "source": [
    "#將兩個不同檔案,一個excel,一個csv,做合併,含所有其中一個檔案,並用一個欄位indicator\n",
    "import pandas\n",
    "df=pandas.pandas.read_excel(\"D:\\cpc\\9811成銷\\能源局\\企研提供\\customer_revisded.xlsx\")\n",
    "df.head()\n",
    "dfexport=pandas.pandas.read_csv(\"D:\\cpc\\9811成銷\\能源局\\交出企研處\\EA201708.csv\")\n",
    "dfexport.head()\n",
    "df.columns=['Unnamed: 01', 'CUST_NO', 'CUST_NAME2', 'BUSNO3', 'ADDR4','unname5']\n",
    "df.head()\n",
    "result=pandas.merge(dfexport,df,how='left',on='CUST_NO',indicator=True)\n",
    "x=pandas.DataFrame({'CUST_NO':result[ 'CUST_NO'],'BUSNO':result[ 'BUSNO'], 'CUST_NAME':result['CUST_NAME'], 'ADDR':result['ADDR'],'CUST_NAME2':result['CUST_NAME2'],'flag':result['_merge']})\n",
    "\n",
    "#x.to_excel('merge201709256.xlsx', sheet_name='Sheet1')"
   ]
  },
  {
   "cell_type": "code",
   "execution_count": null,
   "metadata": {
    "collapsed": true
   },
   "outputs": [],
   "source": []
  }
 ],
 "metadata": {
  "anaconda-cloud": {},
  "kernelspec": {
   "display_name": "Python [conda root]",
   "language": "python",
   "name": "conda-root-py"
  },
  "language_info": {
   "codemirror_mode": {
    "name": "ipython",
    "version": 3
   },
   "file_extension": ".py",
   "mimetype": "text/x-python",
   "name": "python",
   "nbconvert_exporter": "python",
   "pygments_lexer": "ipython3",
   "version": "3.5.2"
  }
 },
 "nbformat": 4,
 "nbformat_minor": 1
}
